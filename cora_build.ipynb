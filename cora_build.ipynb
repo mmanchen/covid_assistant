{
 "cells": [
  {
   "cell_type": "code",
   "execution_count": 1,
   "metadata": {},
   "outputs": [],
   "source": [
    "import os\n",
    "import sys\n",
    "import numpy as np\n",
    "from datetime import date\n",
    "import mysql.connector\n",
    "#from tabulate import tabulate\n",
    "\n",
    "\n",
    "#Better to define most functions outside and call them(easier)\n",
    "sys.path.append('./')\n",
    "import functions as f\n",
    "\n",
    "f.prepare_pipeline()"
   ]
  },
  {
   "cell_type": "markdown",
   "metadata": {},
   "source": [
    "## THINGS THAT STILL NEED TO BE DONE:\n",
    "\n",
    "Refining all the options of the DM :\n",
    "\n",
    "( building a more general while loop to control the directions, DONE\n",
    "\n",
    "it can't separate two med_conditions that are next to each other NEEDS FIXING\n",
    "\n",
    "Change response generation!!!!! More random etc.. what options do we have? TO DO\n",
    "\n",
    "define specific functions to make it more simple, IN PROGRES\n",
    "\n",
    "contemplate possible situations and make the slot filling more flexible) STILL NOT DONE\n",
    "\n",
    "Use neuralcoref or SMTH to be able to extract the subject (pronoun or name at least) so the answers can be more personalized.\n",
    "\n",
    "\n",
    "\n",
    "Do tests to see what slot matching or intent matching fails and add it to the structures\n",
    "\n",
    "\n",
    "\n",
    "Link to the database and define profiles better+ recommendations TO DO\n",
    "\n",
    "\n",
    "\n",
    "Recognize more tipes of intents?? Expand the matcher STILL NOT DONE OPTIONAL\n",
    "\n",
    "Add slots (for example the travelling options??) STILL NOT DONE OPTIONAL"
   ]
  },
  {
   "cell_type": "markdown",
   "metadata": {},
   "source": []
  },
  {
   "cell_type": "code",
   "execution_count": null,
   "metadata": {},
   "outputs": [
    {
     "name": "stdout",
     "output_type": "stream",
     "text": [
      "Cora presentation and greeting\n"
     ]
    },
    {
     "name": "stdin",
     "output_type": "stream",
     "text": [
      "Enter your sentence:  Hello cora!\n"
     ]
    },
    {
     "name": "stdout",
     "output_type": "stream",
     "text": [
      "Hello cora!\n",
      "{'age': 0, 'smoker': 0, 'med_cond_risk': [], 'med_cond': [], 'live_in': 0, 'date': '11/12/2020', 'pronoun': 0, 'name': 0}\n",
      "{'greeting': True, 'thank': False, 'accept': False, 'deny': False, 'goodbye': False, 'ask_help': False}\n",
      "{'greeting': True, 'thank': False, 'accept': False, 'deny': False, 'goodbye': False, 'ask_help': False}\n",
      "Nice to meet you\n",
      " I will need to ask you a few more questions to fill the query up\n",
      "Sorry I didn't quite get your/her/his age\n"
     ]
    },
    {
     "name": "stdin",
     "output_type": "stream",
     "text": [
      "Enter your sentence:  I am 25\n"
     ]
    },
    {
     "name": "stdout",
     "output_type": "stream",
     "text": [
      "I am 25\n",
      "{'age': '25', 'smoker': 0, 'med_cond_risk': [], 'med_cond': [], 'live_in': 0, 'date': '11/12/2020', 'pronoun': 0, 'name': 0}\n",
      "{'greeting': False, 'thank': False, 'accept': False, 'deny': False, 'goodbye': False, 'ask_help': False}\n",
      " Sorry the location you specify is either not a country or is not in our list\n"
     ]
    },
    {
     "name": "stdin",
     "output_type": "stream",
     "text": [
      "Enter your sentence:  I am from spain\n"
     ]
    },
    {
     "name": "stdout",
     "output_type": "stream",
     "text": [
      "I am from spain\n",
      "{'age': '25', 'smoker': 0, 'med_cond_risk': [], 'med_cond': [], 'live_in': 'spain', 'date': '11/12/2020', 'pronoun': 0, 'name': 0}\n",
      "{'greeting': False, 'thank': False, 'accept': False, 'deny': False, 'goodbye': False, 'ask_help': False}\n",
      "filled slots: {'age': 25, 'medical_risk': 0.0, 'loc': 'spain'}\n",
      "Your profile is...\n",
      "slots that are NOT filled: smoker\n",
      "0\n",
      "slots that are NOT filled: med_cond_risk\n",
      "I need information about smoker\n"
     ]
    },
    {
     "name": "stdin",
     "output_type": "stream",
     "text": [
      "Enter your sentence:  i do not smoke\n"
     ]
    },
    {
     "name": "stdout",
     "output_type": "stream",
     "text": [
      "i do not smoke\n",
      "{'age': '25', 'smoker': False, 'med_cond_risk': [], 'med_cond': [], 'live_in': 'spain', 'date': '11/12/2020', 'pronoun': 0, 'name': 0}\n",
      "{'greeting': False, 'thank': False, 'accept': False, 'deny': False, 'goodbye': False, 'ask_help': False}\n",
      "I need information about med_cond_risk\n"
     ]
    },
    {
     "name": "stdin",
     "output_type": "stream",
     "text": [
      "Enter your sentence:  I have diabetis\n"
     ]
    },
    {
     "name": "stdout",
     "output_type": "stream",
     "text": [
      "I have diabetis\n",
      "{'age': '25', 'smoker': False, 'med_cond_risk': [1], 'med_cond': [['have', 'diabetis']], 'live_in': 'spain', 'date': '11/12/2020', 'pronoun': 0, 'name': 0}\n",
      "{'greeting': False, 'thank': False, 'accept': False, 'deny': False, 'goodbye': False, 'ask_help': False}\n",
      "Would you like to know the profile of another person? Maybe your sister, your uncle..\n"
     ]
    },
    {
     "name": "stdin",
     "output_type": "stream",
     "text": [
      "Enter your sentence:  yes please\n"
     ]
    },
    {
     "name": "stdout",
     "output_type": "stream",
     "text": [
      "yes please\n",
      "{'age': '25', 'smoker': False, 'med_cond_risk': [1], 'med_cond': [['have', 'diabetis']], 'live_in': 'spain', 'date': '11/12/2020', 'pronoun': 0, 'name': 0}\n",
      "{'greeting': False, 'thank': False, 'accept': True, 'deny': False, 'goodbye': False, 'ask_help': False}\n",
      "Lets start another query then\n",
      "Tell me about the new profile\n",
      "Are you there?\n"
     ]
    }
   ],
   "source": [
    "#start code for Cora DM\n",
    "\n",
    "#IDEA: create a function that notices during the whole conversation if any particular or important intent is happening??\n",
    "#      not only look for intent when we expect one.\n",
    "\n",
    "#this checks if the conversation ends or if the whole process starts again\n",
    "conversation = True\n",
    "\n",
    "#This checks how many profiles are done\n",
    "iteration=0\n",
    "\n",
    "while conversation == True:\n",
    "    \n",
    "    #Define the stages of the dialogue manager with a vector and 0,1 so we have memory on which stage are we and what things\n",
    "    #have been done before (I thought it could be useful)\n",
    "\n",
    "    DM_vec=[0,0,0,0]\n",
    "    \n",
    "    #Define intents dictionary: this dictionary has to be initialized everytime ( we use a function to initialize it)\n",
    "    Intents = f.init_intent()\n",
    "    \n",
    "    #Define  frame dictionary: this dictionary accumulates the info during the whole conversation\n",
    "\n",
    "    Frame= f.init_frame()\n",
    "\n",
    "    # Greeting part\n",
    "    while DM_vec[0] == 0:\n",
    "        \n",
    "        if iteration<1:\n",
    "            print('Cora presentation and greeting')\n",
    "        elif iteration>=1:\n",
    "            print('Tell me about the new profile')\n",
    "            \n",
    "        input_text = f.wait_input()\n",
    "        Frame, Intents = f.intent_slot_filling(input_text,Frame,Intents)\n",
    "        print(Intents)\n",
    "\n",
    "        if Intents['ask_help'] == True:\n",
    "            print('Of course I will help!')\n",
    "\n",
    "        if Intents['greeting'] == True:\n",
    "            print('Nice to meet you')\n",
    "            #Idea: if neuralcoref works it could say the name if you gave your name!\n",
    "\n",
    "        DM_vec[0] = 1\n",
    "\n",
    "\n",
    "    #Second stage: where the required slots are filled    \n",
    "    while DM_vec[1]== 0:\n",
    "\n",
    "        have_age= False\n",
    "        have_loc = False\n",
    "\n",
    "        if (Frame['age'] != 0) and (f.is_number(Frame['age']) == True):\n",
    "            have_age = True\n",
    "\n",
    "        #Here we need to check if the country is in our list\n",
    "        if (Frame['live_in'] != 0):\n",
    "            have_loc = True\n",
    "\n",
    "        #Here the subject is missing but it needs to be added\n",
    "        if (have_age == True) and (have_loc == True):\n",
    "            DM_vec[1] = 1\n",
    "            break\n",
    "        else:\n",
    "            print(\" I will need to ask you a few more questions to fill the query up\")\n",
    "\n",
    "            if (Frame['age'] == 0) or (f.is_number(Frame['age']) == False):\n",
    "                print(\"Sorry I didn't quite get your/her/his age\")\n",
    "                input_text = f.wait_input()\n",
    "                Frame, Intents = f.intent_slot_filling(input_text,Frame,Intents)\n",
    "                Intents = f.init_intent()\n",
    "            else:\n",
    "                have_age =True\n",
    "\n",
    "\n",
    "            #Here we need to check if the country is in our list\n",
    "            if (Frame['live_in'] == 0):\n",
    "                print(\" Sorry the location you specify is either not a country or is not in our list\")\n",
    "                input_text = f.wait_input()\n",
    "                Frame, Intents = f.intent_slot_filling(input_text,Frame,Intents)\n",
    "                Intents = f.init_intent()\n",
    "            else:\n",
    "                have_loc = True\n",
    "\n",
    "\n",
    "    #############################################\n",
    "    # Part where you extract the info from the database and fill in the profile\n",
    "\n",
    "    filled_slots= f.check_filled_slots(Frame)\n",
    "\n",
    "    dict = filled_slots\n",
    "    #Check database\n",
    "\n",
    "    #mydb = mysql.connector.connect(host=\"localhost\", user=\"root\", password=\"hola123\", database=\"nli_db\")\n",
    "    #mycursor = mydb.cursor()\n",
    "\n",
    "    ##if 0 <= dict.get(\"age\") <= 69:\n",
    "    #    mycursor.execute(\"select score from age where agecol=1\")\n",
    "    #    score1 = [x[0] for x in mycursor.fetchall()]\n",
    "    #    print(\"your age risk (\", dict.get(\"age\"), \") is\", score1)\n",
    "\n",
    "    #if 70 <= dict.get(\"age\") <= 100:\n",
    "    #    mycursor.execute(\"select score from age where agecol=100\")\n",
    "    #    score1 = [x[0] for x in mycursor.fetchall()]\n",
    "    #    print(\"your age risk (\", dict.get(\"age\"), \") is\", score1)\n",
    "\n",
    "    print(\"Your profile is...\")\n",
    "    #############################################\n",
    "\n",
    "\n",
    "    #for now it tries to fill all the slots, maybe it would be better if it's more flexible\n",
    "    while DM_vec[2]==0:\n",
    "\n",
    "\n",
    "        empty_slots= f.check_empty_slots(Frame)\n",
    "\n",
    "\n",
    "        if len(empty_slots) == 0:\n",
    "            DM_vec[2]=1\n",
    "\n",
    "        else: \n",
    "            for item in empty_slots:\n",
    "                print(\"I need information about {}\".format(item))\n",
    "                input_text = f.wait_input()\n",
    "                Frame, Intents = f.intent_slot_filling(input_text,Frame,Intents)\n",
    "                Intents = f.init_intent()\n",
    "\n",
    "\n",
    "    empty_slots_2= f.check_empty_slots(Frame)\n",
    "    if empty_slots_2 != empty_slots:\n",
    "        filled_slots= f.check_filled_slots(Frame)\n",
    "\n",
    "        dict = filled_slots\n",
    "\n",
    "\n",
    "        #!!!!!If we did manage to get more information:\n",
    "        # here we would repeat the connection to the database and the profiling, otherwise we continue\n",
    "\n",
    "    #This part tries to see if we need another profiling or we say goodbye\n",
    "    while DM_vec[3] == 0:\n",
    "        print('Would you like to know the profile of another person? Maybe your sister, your uncle..')\n",
    "\n",
    "        input_text = f.wait_input()\n",
    "        Frame, Intents = f.intent_slot_filling(input_text,Frame,Intents)\n",
    "        iteration += 1\n",
    "\n",
    "        if Intents['accept'] == True:\n",
    "\n",
    "            print('Lets start another query then')\n",
    "            DM_vec[3] = 1\n",
    "            #HERE WE NEED TO FIND A WAY TO GO BACK TO THE START: we need a higher level while loop to control this flow\n",
    "\n",
    "        if (Intents['deny'] == True) or (Intents['goodbye']== True):\n",
    "\n",
    "            print('As you want. I hope I see you soon. Stay safe!')\n",
    "            conversation = False\n",
    "            DM_vec[3] = 1"
   ]
  },
  {
   "cell_type": "code",
   "execution_count": null,
   "metadata": {},
   "outputs": [],
   "source": []
  }
 ],
 "metadata": {
  "kernelspec": {
   "display_name": "Python 3",
   "language": "python",
   "name": "python3"
  },
  "language_info": {
   "codemirror_mode": {
    "name": "ipython",
    "version": 3
   },
   "file_extension": ".py",
   "mimetype": "text/x-python",
   "name": "python",
   "nbconvert_exporter": "python",
   "pygments_lexer": "ipython3",
   "version": "3.7.4"
  }
 },
 "nbformat": 4,
 "nbformat_minor": 4
}
