{
 "cells": [
  {
   "cell_type": "code",
   "execution_count": 1,
   "metadata": {},
   "outputs": [],
   "source": [
    "import os\n",
    "import sys\n",
    "import numpy as np\n",
    "from datetime import date\n",
    "\n",
    "\n",
    "#Better to define most functions outside and call them(easier)\n",
    "sys.path.append('../modules/')\n",
    "import functions as f\n",
    "\n",
    "f.prepare_pipeline()"
   ]
  },
  {
   "cell_type": "markdown",
   "metadata": {},
   "source": [
    "## THINGS THAT STILL NEED TO BE DONE:\n",
    "\n",
    "Refining all the options of the DM ( building a more general while loop to control the directions, define specific functions to make it more simple, contemplate possible situations and make the slot filling more flexible)\n",
    "\n",
    "Use neuralcoref or SMTH to be able to extract the subject (pronoun or name at least) so the answers can be more personalized.\n",
    "\n",
    "Recognize more tipes of intents?? Expand the matcher\n",
    "\n",
    "Add slots (for example the travelling options??)\n",
    "\n",
    "Do tests to see what slot matching or intent matching fails and add it to the structures\n",
    "\n",
    "Change response generation!!!!! More random etc.. what options do we have?\n",
    "\n",
    "Link to the database and define profiles better"
   ]
  },
  {
   "cell_type": "code",
   "execution_count": 2,
   "metadata": {},
   "outputs": [
    {
     "name": "stdout",
     "output_type": "stream",
     "text": [
      "Hello Cora. My uncle William is 65 years old and he smokes. Can you give me the risk level? He had a heart transplant two years ago and he has diabetis\n",
      "{'age': '65', 'smoker': True, 'med_cond_risk': [2, 1], 'med_cond': [['heart', 'transplant'], ['has', 'diabetis']], 'live_in': 0, 'date': '09/12/2020', 'pronoun': 0, 'name': 'William'}\n",
      "{'greeting': True, 'thank': False, 'accept': False, 'deny': False, 'goodbye': False, 'ask_help': False}\n"
     ]
    }
   ],
   "source": [
    "#This piece of code was just to try it out -  maybe it helps as an example but it's not part of the DM\n",
    "\n",
    "text= u\"Hello Cora. My uncle William is 65 years old and he smokes. Can you give me the risk level? He had a heart transplant two years ago and he has diabetis\"\n",
    "#Define intents dictionary\n",
    "Intents={'greeting': False, 'thank': False, \n",
    "          'accept': False,'deny':False,'goodbye': False, 'ask_help':False }\n",
    "    \n",
    "    \n",
    "#Define  frame dictionary\n",
    "Frame={'age': 0,'smoker':False,'med_cond_risk':[],\n",
    "       'med_cond':[],'live_in': 0,'date': date.today().strftime(\"%d/%m/%Y\"), 'pronoun':0,'name':0}\n",
    "\n",
    "Frame, Intents = f.intent_slot_filling(text, Frame, Intents)"
   ]
  },
  {
   "cell_type": "code",
   "execution_count": 3,
   "metadata": {},
   "outputs": [
    {
     "name": "stdout",
     "output_type": "stream",
     "text": [
      "Cora presentation and greeting\n"
     ]
    },
    {
     "name": "stdin",
     "output_type": "stream",
     "text": [
      "Enter your sentence:  hi cora\n"
     ]
    },
    {
     "name": "stdout",
     "output_type": "stream",
     "text": [
      "hi cora\n",
      "{'age': 0, 'smoker': 0, 'med_cond_risk': [], 'med_cond': [], 'live_in': 0, 'date': '09/12/2020', 'pronoun': 0, 'name': 0}\n",
      "{'greeting': True, 'thank': False, 'accept': False, 'deny': False, 'goodbye': False, 'ask_help': False}\n",
      "{'greeting': True, 'thank': False, 'accept': False, 'deny': False, 'goodbye': False, 'ask_help': False}\n",
      "Nice to meet you\n",
      " I will need to ask you a few more questions to fill the query up\n",
      "Sorry I didn't quite get your/her/his age\n"
     ]
    },
    {
     "name": "stdin",
     "output_type": "stream",
     "text": [
      "Enter your sentence:  I am 25\n"
     ]
    },
    {
     "name": "stdout",
     "output_type": "stream",
     "text": [
      "I am 25\n",
      "{'age': '25', 'smoker': 0, 'med_cond_risk': [], 'med_cond': [], 'live_in': 0, 'date': '09/12/2020', 'pronoun': 0, 'name': 0}\n",
      "{'greeting': False, 'thank': False, 'accept': False, 'deny': False, 'goodbye': False, 'ask_help': False}\n",
      " Sorry the location you specify is either not a country or is not in our list\n"
     ]
    },
    {
     "name": "stdin",
     "output_type": "stream",
     "text": [
      "Enter your sentence:  i live in barcelona\n"
     ]
    },
    {
     "name": "stdout",
     "output_type": "stream",
     "text": [
      "i live in barcelona\n",
      "{'age': '25', 'smoker': 0, 'med_cond_risk': [], 'med_cond': [], 'live_in': 'barcelona', 'date': '09/12/2020', 'pronoun': 0, 'name': 0}\n",
      "{'greeting': False, 'thank': False, 'accept': False, 'deny': False, 'goodbye': False, 'ask_help': False}\n",
      "slots that are filled: age values: 25\n",
      "slots that are filled: live_in values: barcelona\n",
      "slots that are filled: date values: 09/12/2020\n",
      "Your profile is...\n",
      "slots that are NOT filled: smoker\n",
      "0\n",
      "slots that are NOT filled: med_cond_risk\n",
      "I need information about smoker\n"
     ]
    },
    {
     "name": "stdin",
     "output_type": "stream",
     "text": [
      "Enter your sentence:  I am not a smoker\n"
     ]
    },
    {
     "name": "stdout",
     "output_type": "stream",
     "text": [
      "I am not a smoker\n",
      "{'age': '25', 'smoker': False, 'med_cond_risk': [], 'med_cond': [], 'live_in': 'barcelona', 'date': '09/12/2020', 'pronoun': 0, 'name': 0}\n",
      "{'greeting': False, 'thank': False, 'accept': False, 'deny': False, 'goodbye': False, 'ask_help': False}\n",
      "I need information about med_cond_risk\n"
     ]
    },
    {
     "name": "stdin",
     "output_type": "stream",
     "text": [
      "Enter your sentence:  I have diabetis\n"
     ]
    },
    {
     "name": "stdout",
     "output_type": "stream",
     "text": [
      "I have diabetis\n",
      "{'age': '25', 'smoker': False, 'med_cond_risk': [1], 'med_cond': [['have', 'diabetis']], 'live_in': 'barcelona', 'date': '09/12/2020', 'pronoun': 0, 'name': 0}\n",
      "{'greeting': False, 'thank': False, 'accept': False, 'deny': False, 'goodbye': False, 'ask_help': False}\n"
     ]
    }
   ],
   "source": [
    "#start code for Cora DM\n",
    "\n",
    "\n",
    "#Define the stages of the dialogue manager with a vector and 0,1 so we have memory on which stage are we and what things\n",
    "#have been done before (I thought it could be useful)\n",
    "\n",
    "DM_vec=[0,0,0]\n",
    "\n",
    "#Define intents dictionary: this dictionary has to be initialized everytime ( we use a function to initialize it)\n",
    "Intents = f.init_intent()\n",
    "    \n",
    "#Define  frame dictionary: this dictionary accumulates the info during the whole conversation\n",
    "\n",
    "Frame= f.init_frame()\n",
    "\n",
    "#IDEA: create a function that notices during the whole conversation if any particular or important intent is happening??\n",
    "#      not only look for intent when we expect one.\n",
    "\n",
    "\n",
    "# Greeting part\n",
    "while DM_vec[0] == 0:\n",
    "    \n",
    "    print('Cora presentation and greeting')\n",
    "    input_text = f.wait_input()\n",
    "    Frame, Intents = f.intent_slot_filling(input_text,Frame,Intents)\n",
    "    print(Intents)\n",
    "    \n",
    "    if Intents['ask_help'] == True:\n",
    "        print('Of course I will help!')\n",
    "    \n",
    "    if Intents['greeting'] == True:\n",
    "        print('Nice to meet you')\n",
    "        #Idea: if neuralcoref works it could say the name if you gave your name!\n",
    "    \n",
    "    DM_vec[0] = 1\n",
    "    \n",
    "\n",
    "#Second stage: where the required slots are filled    \n",
    "while DM_vec[1]== 0:\n",
    "    \n",
    "    have_age= False\n",
    "    have_loc = False\n",
    "    \n",
    "    if (Frame['age'] != 0) and (f.is_number(Frame['age']) == True):\n",
    "        have_age = True\n",
    "        \n",
    "    #Here we need to check if the country is in our list\n",
    "    if (Frame['live_in'] != 0):\n",
    "        have_loc = True\n",
    "    \n",
    "    #Here the subject is missing but it needs to be added\n",
    "    if (have_age == True) and (have_loc == True):\n",
    "        DM_vec[1] = 1\n",
    "        break\n",
    "    else:\n",
    "        print(\" I will need to ask you a few more questions to fill the query up\")\n",
    "    \n",
    "        if (Frame['age'] == 0) or (f.is_number(Frame['age']) == False):\n",
    "            print(\"Sorry I didn't quite get your/her/his age\")\n",
    "            input_text = f.wait_input()\n",
    "            Frame, Intents = f.intent_slot_filling(input_text,Frame,Intents)\n",
    "            Intents = f.init_intent()\n",
    "        else:\n",
    "            have_age =True\n",
    "\n",
    "\n",
    "        #Here we need to check if the country is in our list\n",
    "        if (Frame['live_in'] == 0):\n",
    "            print(\" Sorry the location you specify is either not a country or is not in our list\")\n",
    "            input_text = f.wait_input()\n",
    "            Frame, Intents = f.intent_slot_filling(input_text,Frame,Intents)\n",
    "            Intents = f.init_intent()\n",
    "        else:\n",
    "            have_loc = True\n",
    "            \n",
    "            \n",
    "#############################################\n",
    "# Part where you extract the info from the database and fill in the profile\n",
    "\n",
    "for k,v in Frame.items():\n",
    "    if  (type(v)!= list) and ((v != 0) or (v == True)):\n",
    "        print('slots that are filled:', k, 'values:', v)\n",
    "    elif (type(v)== list) and (len(v) != 0):\n",
    "        print('slots that are filled:', k, 'values:', v)\n",
    "        \n",
    "#Check database\n",
    "\n",
    "print(\"Your profile is...\")\n",
    "#############################################\n",
    "\n",
    "\n",
    "#for now it tries to fill all the slots, maybe it would be better if it's more flexible\n",
    "while DM_vec[2]==0:\n",
    "    \n",
    "    \n",
    "    ######## This should be turned into a function??\n",
    "    empty_slots=[]\n",
    "    for k,v in Frame.items():\n",
    "        if  (type(v)!= list) and (type(v)!= bool) and (v == 0) and (k != 'pronoun') and (k != 'name'):\n",
    "            empty_slots.append(k)\n",
    "            print('slots that are NOT filled:', k)\n",
    "            if k == 'smoker':\n",
    "                print(v)\n",
    "        elif (type(v)== list) and (len(v) == 0) and (k != 'med_cond'):\n",
    "            empty_slots.append(k)\n",
    "            print('slots that are NOT filled:', k)\n",
    "    \n",
    "            \n",
    "    if len(empty_slots) == 0:\n",
    "        DM_vec[2]=1\n",
    "        \n",
    "    else: \n",
    "        for item in empty_slots:\n",
    "            print(\"I need information about {}\".format(item))\n",
    "            input_text = f.wait_input()\n",
    "            Frame, Intents = f.intent_slot_filling(input_text,Frame,Intents)\n",
    "            Intents = f.init_intent()\n",
    "            \n",
    "\n",
    "#!!!!!If we did manage to get more information:\n",
    "# here we would repeat the connection to the database and the profiling, otherwise we continue\n",
    "\n",
    "#This part tries to see if we need another profiling or we say goodbye\n",
    "while DM_vec[3] == 0:\n",
    "    print('Would you like to know the profile of another person? Maybe your sister, your uncle..')\n",
    "    \n",
    "    input_text = f.wait_input()\n",
    "    Frame, Intents = f.intent_slot_filling(input_text,Frame,Intents)\n",
    "    \n",
    "    if Intents['accept'] == True:\n",
    "        \n",
    "        print('Lets start another query then')\n",
    "        DM_vec[3] = 1\n",
    "        #HERE WE NEED TO FIND A WAY TO GO BACK TO THE START: we need a higher level while loop to control this flow\n",
    "    \n",
    "    if (Intents['deny'] == True) or (Intents['goodbye']== True):\n",
    "        \n",
    "        print('As you want. I hope I see you soon. Stay safe!')\n",
    "        DM_vec[3] = 1\n",
    "    \n",
    "    \n",
    "        \n",
    "    \n",
    "        \n",
    "    \n",
    "    \n",
    "\n"
   ]
  },
  {
   "cell_type": "code",
   "execution_count": null,
   "metadata": {},
   "outputs": [],
   "source": []
  }
 ],
 "metadata": {
  "kernelspec": {
   "display_name": "Python 3",
   "language": "python",
   "name": "python3"
  },
  "language_info": {
   "codemirror_mode": {
    "name": "ipython",
    "version": 3
   },
   "file_extension": ".py",
   "mimetype": "text/x-python",
   "name": "python",
   "nbconvert_exporter": "python",
   "pygments_lexer": "ipython3",
   "version": "3.7.4"
  }
 },
 "nbformat": 4,
 "nbformat_minor": 4
}
